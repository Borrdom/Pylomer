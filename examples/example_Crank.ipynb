{
 "cells": [
  {
   "attachments": {},
   "cell_type": "markdown",
   "id": "315373e4",
   "metadata": {},
   "source": [
    "# Water sorption kinetics in an active pharmaceutical ingredient\n",
    "\n",
    "Calculation of the water-sorption kinetics in ritonavir (see the example in Figure 2 from https://doi.org/10.1021/acs.molpharmaceut.1c00984). "
   ]
  },
  {
   "cell_type": "code",
   "execution_count": 18,
   "id": "06c8e6e9",
   "metadata": {},
   "outputs": [],
   "source": [
    "import matplotlib.pyplot as plt\n",
    "import numpy as np\n",
    "from Pylomer import crank\n",
    "t=np.linspace(0,300,100)*60\n",
    "D=1E-13\n",
    "L=1.34E-5\n",
    "w0=3/100\n",
    "winfty=4.3/100"
   ]
  },
  {
   "attachments": {},
   "cell_type": "markdown",
   "id": "34558063",
   "metadata": {},
   "source": []
  },
  {
   "cell_type": "code",
   "execution_count": 1,
   "id": "a5fe03c4",
   "metadata": {},
   "outputs": [
    {
     "ename": "NameError",
     "evalue": "name 'Tggt' is not defined",
     "output_type": "error",
     "traceback": [
      "\u001b[1;31m---------------------------------------------------------------------------\u001b[0m",
      "\u001b[1;31mNameError\u001b[0m                                 Traceback (most recent call last)",
      "\u001b[1;32m~\\AppData\\Local\\Temp/ipykernel_18972/4287998361.py\u001b[0m in \u001b[0;36m<module>\u001b[1;34m\u001b[0m\n\u001b[1;32m----> 1\u001b[1;33m \u001b[0mTgw2\u001b[0m\u001b[1;33m=\u001b[0m\u001b[0mTggt\u001b[0m\u001b[1;33m(\u001b[0m\u001b[0mwi\u001b[0m\u001b[1;33m,\u001b[0m\u001b[0mTgi\u001b[0m\u001b[1;33m,\u001b[0m\u001b[0mq\u001b[0m\u001b[1;33m=\u001b[0m\u001b[1;36m0\u001b[0m\u001b[1;33m,\u001b[0m\u001b[0mrho0i\u001b[0m\u001b[1;33m=\u001b[0m\u001b[0mrhoi\u001b[0m\u001b[1;33m)\u001b[0m\u001b[1;33m\u001b[0m\u001b[1;33m\u001b[0m\u001b[0m\n\u001b[0m\u001b[0;32m      2\u001b[0m font = {'weight' : 'normal',\n\u001b[0;32m      3\u001b[0m         'size'   : 12}\n\u001b[0;32m      4\u001b[0m \u001b[0mplt\u001b[0m\u001b[1;33m.\u001b[0m\u001b[0mrc\u001b[0m\u001b[1;33m(\u001b[0m\u001b[1;34m'font'\u001b[0m\u001b[1;33m,\u001b[0m \u001b[1;33m**\u001b[0m\u001b[0mfont\u001b[0m\u001b[1;33m)\u001b[0m\u001b[1;33m\u001b[0m\u001b[1;33m\u001b[0m\u001b[0m\n\u001b[0;32m      5\u001b[0m \u001b[1;33m\u001b[0m\u001b[0m\n",
      "\u001b[1;31mNameError\u001b[0m: name 'Tggt' is not defined"
     ]
    }
   ],
   "source": [
    "\n",
    "wt=crank(t,D,L,w0,winfty)\n",
    "font = {'weight' : 'normal',\n",
    "        'size'   : 12}\n",
    "plt.rc('font', **font)\n",
    "\n",
    "color = \"#000000\"\n",
    "# Texp=np.asarray([35,27,23,21])\n",
    "# wexp=np.asarray([2,3,4,5])\n",
    "fig, ax = plt.subplots(figsize = (4, 3), dpi = 300)\n",
    "fig.subplots_adjust(hspace=0.5, wspace=0.3)\n",
    "ax.plot(t,wt,color = color ,  linewidth = 2.0)\n",
    "# ax.plot(wexp,Texp, 'o', markersize=12, markerfacecolor='w', markeredgewidth=1.5, markeredgecolor=color)\n",
    "ax.set_ylabel(\"T/°C\")\n",
    "ax.set_xlabel(\"$w_w$/%\")"
   ]
  }
 ],
 "metadata": {
  "jupytext": {
   "cell_metadata_filter": "-all",
   "main_language": "python",
   "notebook_metadata_filter": "-all"
  },
  "kernelspec": {
   "display_name": "Python 3",
   "language": "python",
   "name": "python3"
  },
  "language_info": {
   "codemirror_mode": {
    "name": "ipython",
    "version": 3
   },
   "file_extension": ".py",
   "mimetype": "text/x-python",
   "name": "python",
   "nbconvert_exporter": "python",
   "pygments_lexer": "ipython3",
   "version": "3.9.13"
  }
 },
 "nbformat": 4,
 "nbformat_minor": 5
}
