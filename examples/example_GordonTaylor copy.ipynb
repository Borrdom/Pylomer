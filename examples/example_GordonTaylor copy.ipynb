{
 "cells": [
  {
   "attachments": {},
   "cell_type": "markdown",
   "id": "315373e4",
   "metadata": {},
   "source": [
    "# Glass transition temperature of an active pharmaceutical ingredient\n",
    "\n",
    "Calculation of the glass transition temperature of a ritonavir-water mixture (see the example in Figure 3 from https://doi.org/10.1021/acs.molpharmaceut.1c00984). "
   ]
  },
  {
   "cell_type": "code",
   "execution_count": 18,
   "id": "06c8e6e9",
   "metadata": {},
   "outputs": [],
   "source": [
    "import matplotlib.pyplot as plt\n",
    "import numpy as np\n",
    "from Pylomer import Tggt\n",
    "w1=np.linspace(0,0.05,100)\n",
    "w2=1-w1\n",
    "rhoi=np.asarray([997,1150])\n",
    "Tgi=np.asarray([136,323.15])\n",
    "q=np.asarray([-600])\n",
    "wi=np.asarray([w1,w2])"
   ]
  },
  {
   "attachments": {},
   "cell_type": "markdown",
   "id": "34558063",
   "metadata": {},
   "source": []
  },
  {
   "cell_type": "code",
   "execution_count": 23,
   "id": "a5fe03c4",
   "metadata": {},
   "outputs": [
    {
     "data": {
      "image/png": "[encoded data removed]",
      "text/plain": [
       "<Figure size 432x288 with 1 Axes>"
      ]
     },
     "metadata": {
      "needs_background": "light"
     },
     "output_type": "display_data"
    }
   ],
   "source": [
    "\n",
    "Tgw2=Tggt(wi,Tgi,q=0,rho0i=rhoi)\n",
    "font = {'weight' : 'normal',\n",
    "        'size'   : 12}\n",
    "plt.rc('font', **font)\n",
    "\n",
    "color = \"#000000\"\n",
    "Texp=np.asarray([35,27,23,21])\n",
    "wexp=np.asarray([2,3,4,5])\n",
    "fig, ax = plt.subplots(figsize = (4, 3), dpi = 300)\n",
    "fig.subplots_adjust(hspace=0.5, wspace=0.3)\n",
    "ax.plot(w1*100,Tgw2-273.15,color = color ,  linewidth = 2.0)\n",
    "ax.plot(RHexp,wexp, 'o', markersize=12, markerfacecolor='w', markeredgewidth=1.5, markeredgecolor=color)\n",
    "ax.set_xlabel(\"RH/%\")\n",
    "ax.set_ylabel(\"$w_w$/%\")"
   ]
  }
 ],
 "metadata": {
  "jupytext": {
   "cell_metadata_filter": "-all",
   "main_language": "python",
   "notebook_metadata_filter": "-all"
  },
  "kernelspec": {
   "display_name": "Python 3",
   "language": "python",
   "name": "python3"
  },
  "language_info": {
   "codemirror_mode": {
    "name": "ipython",
    "version": 3
   },
   "file_extension": ".py",
   "mimetype": "text/x-python",
   "name": "python",
   "nbconvert_exporter": "python",
   "pygments_lexer": "ipython3",
   "version": "3.9.13"
  }
 },
 "nbformat": 4,
 "nbformat_minor": 5
}
